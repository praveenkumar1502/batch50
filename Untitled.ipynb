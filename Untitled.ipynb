{
 "cells": [
  {
   "cell_type": "code",
   "execution_count": 3,
   "metadata": {},
   "outputs": [
    {
     "name": "stdout",
     "output_type": "stream",
     "text": [
      "rabbit\n"
     ]
    }
   ],
   "source": [
    "s1=\"rabbit\"\n",
    "s2=s1\n",
    "s1=\"apple\"\n",
    "print (s2)\n"
   ]
  },
  {
   "cell_type": "code",
   "execution_count": 8,
   "metadata": {},
   "outputs": [
    {
     "name": "stdout",
     "output_type": "stream",
     "text": [
      "a\n"
     ]
    }
   ],
   "source": [
    "s1=\"python program\"\n",
    "s2=s1\n",
    "s1=\"apple\"\n",
    "print (s1[0])"
   ]
  },
  {
   "cell_type": "code",
   "execution_count": 10,
   "metadata": {},
   "outputs": [
    {
     "name": "stdout",
     "output_type": "stream",
     "text": [
      "praveen\n",
      "i\n"
     ]
    }
   ],
   "source": [
    "s1=\"praveen\"\n",
    "s2=s1\n",
    "s1=\"naveen\"\n",
    "s3=\"kiran\"\n",
    "s4=s2\n",
    "print (s4)\n",
    "print (s3[1])"
   ]
  },
  {
   "cell_type": "code",
   "execution_count": null,
   "metadata": {},
   "outputs": [],
   "source": [
    "a=1000\n",
    "print (a,[type(a)])\n",
    "a=10.23\n",
    "a=\"python\"\n",
    "print (a,[type(a)])\n",
    "a=[10 20 30]\n",
    "a=\"python\"\n",
    "\n"
   ]
  }
 ],
 "metadata": {
  "kernelspec": {
   "display_name": "Python 3",
   "language": "python",
   "name": "python3"
  },
  "language_info": {
   "codemirror_mode": {
    "name": "ipython",
    "version": 3
   },
   "file_extension": ".py",
   "mimetype": "text/x-python",
   "name": "python",
   "nbconvert_exporter": "python",
   "pygments_lexer": "ipython3",
   "version": "3.6.5"
  }
 },
 "nbformat": 4,
 "nbformat_minor": 2
}
